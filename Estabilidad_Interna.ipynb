{
  "nbformat": 4,
  "nbformat_minor": 0,
  "metadata": {
    "colab": {
      "provenance": [],
      "collapsed_sections": []
    },
    "kernelspec": {
      "name": "python3",
      "display_name": "Python 3"
    },
    "language_info": {
      "name": "python"
    }
  },
  "cells": [
    {
      "cell_type": "markdown",
      "source": [
        "# Estabilidad interna de oligos\n",
        "\n",
        "Rychlik (1993) publicó una guía sobre la selección de primers para la Reacción en Cadena de la polimerasa (PCR) donde menciona una gráfica de estabilidad interna para los oligos, la cual puede obtenerse utilizando Oligo 7.\n",
        "\n",
        "![Stability graph](https://media.springernature.com/lw685/springer-static/image/chp%3A10.1385%2F0-89603-244-2%3A31/MediaObjects/978-1-59259-502-0_2_Fig2_HTML.jpg#center)\n",
        "\n",
        "Esta gráfica puede ayudarnos a evitar el _mispriming_ (sitios falsos de unión a la secuencia blanco) a partir del valor de $\\Delta G$ de los pentámeros del oligo.\n",
        "\n",
        "al analizar la estabilidad interna. Bucamos que el primer sea estable en el extremo 5' y un poco inestable para el extremo 3'.\n",
        "\n",
        "- Los primers con in extremo 5' estable son los que tienen un mejor desempeño al reducir los sitios de _mispriming_\n",
        "\n",
        "- Una baja estabilidad en el extremo 3' previene la formación de duplex que podrían iniciar la síntesis de ADN"
      ],
      "metadata": {
        "id": "U5ACgClC4Ef7"
      }
    },
    {
      "cell_type": "markdown",
      "source": [
        "El objetivo de esta sesión es poder reproducir esta gráfica con ayuda de python para poder obtener esta gráfica nececitamos\n",
        "\n",
        "- Dividir la secuencia del primer en pentámeros\n",
        "- Calcular el valor de $\\Delta G$ de cada pentámero\n",
        "- Graficar la secuencia y los valores correspondientes de $\\Delta G$ en cada posición\n",
        "\n",
        "## Paso 1 obtener los pentámeros de una secuencia dada\n",
        "\n",
        "Vamos a reproducir la Gráfica B1 con la secuencia `ACTTGGGATTGGGCT`.\n",
        "\n",
        "Esta secuencia tiene 11 pentámeros:\n",
        "\n",
        "```\n",
        "   ACTTGGGATTGGGCT\n",
        "1. ACTTG\n",
        "2.  CTTGG\n",
        "3.   TTGGG\n",
        "4.    TGGGA\n",
        "5.     GGGAT\n",
        "6.      GGATT\n",
        "7.       GATTG\n",
        "8.        ATTGG\n",
        "9.         TTGGG\n",
        "10.         TGGGC\n",
        "11.          GGGCT\n",
        "```\n",
        "Como podemos observar para obtener todos los posibles pentámeros de la secuencia se necesita avanzar un nucleótido a la vez y extender la selección por 5 nucleótidos.\n",
        "\n",
        "Esto fácilmente los podemos hacer con un loop\n"
      ],
      "metadata": {
        "id": "hsSpemG38XWL"
      }
    },
    {
      "cell_type": "code",
      "execution_count": null,
      "metadata": {
        "colab": {
          "base_uri": "https://localhost:8080/"
        },
        "id": "KQ7lGKlF3_NI",
        "outputId": "af25aae2-fbe4-48c4-ebec-a57b307760d3"
      },
      "outputs": [
        {
          "output_type": "execute_result",
          "data": {
            "text/plain": [
              "['ACTTG',\n",
              " 'CTTGG',\n",
              " 'TTGGG',\n",
              " 'TGGGA',\n",
              " 'GGGAT',\n",
              " 'GGATT',\n",
              " 'GATTG',\n",
              " 'ATTGG',\n",
              " 'TTGGG',\n",
              " 'TGGGC',\n",
              " 'GGGCT']"
            ]
          },
          "metadata": {},
          "execution_count": 2
        }
      ],
      "source": [
        "sequence = \"ACTTGGGATTGGGCT\"\n",
        "pentamer_list = []\n",
        "for i in range(len(sequence)):\n",
        "  if len(sequence[i:i+5]) < 5:\n",
        "    break\n",
        "  pentamer_list.append(sequence[i:i+5])\n",
        "pentamer_list"
      ]
    },
    {
      "cell_type": "markdown",
      "source": [
        "Podemos reescribir esto como una lista de comprensión, para crearla necesitamos un formato similar a este \n",
        "\n",
        "`[expression for member in iterable]`\n",
        "\n",
        "\n"
      ],
      "metadata": {
        "id": "FjFHVMpw_nZm"
      }
    },
    {
      "cell_type": "code",
      "source": [
        "pentamers = [sequence[i:i+5] for i in range(len(sequence)-4)]\n",
        "pentamers"
      ],
      "metadata": {
        "colab": {
          "base_uri": "https://localhost:8080/"
        },
        "id": "nfglLTeF_hBd",
        "outputId": "aa334eb1-749a-4063-c64f-15677718f635"
      },
      "execution_count": null,
      "outputs": [
        {
          "output_type": "execute_result",
          "data": {
            "text/plain": [
              "['ACTTG',\n",
              " 'CTTGG',\n",
              " 'TTGGG',\n",
              " 'TGGGA',\n",
              " 'GGGAT',\n",
              " 'GGATT',\n",
              " 'GATTG',\n",
              " 'ATTGG',\n",
              " 'TTGGG',\n",
              " 'TGGGC',\n",
              " 'GGGCT']"
            ]
          },
          "metadata": {},
          "execution_count": 3
        }
      ]
    },
    {
      "cell_type": "markdown",
      "source": [
        "Ahora que ya tenémos los pentámeros necesitamos calcular el valor de $\\Delta G\n",
        "$ para cada uno. "
      ],
      "metadata": {
        "id": "o0CizL9tBFLP"
      }
    },
    {
      "cell_type": "markdown",
      "source": [
        "Así que ahora nos enfrentamos a que necesitamos conseguír los dímeros un problema similar al de conseguir los pentámeros, así que podríamos hacer una función para obtener ambos y no reescribir el código solo cambiando el valor de la suma de i+2 e i+5 "
      ],
      "metadata": {
        "id": "OHrviSOBC6JV"
      }
    },
    {
      "cell_type": "code",
      "source": [
        "def get_oligo_kmers(sequence, k):\n",
        "  \"\"\"Get all possible substrings of length k contained within a biological sequence  \n",
        "     \n",
        "  :param str sequence a text string with a nucleotide sequence\n",
        "  :param int k an integer representing the frequency k-mer\n",
        "  :return list a list of all possible k-mers\n",
        "\n",
        "  Usage examples:\n",
        "  >>> get_oligo_kmers(\"ACGAT\", 2)\n",
        "  ['AC', 'CG', 'GA', 'AT']\n",
        "  >>> get_oligo_kmers(\"ACTTGGGATTGGGCT\", 5)\n",
        "  ['ACTTG', 'CTTGG', 'TTGGG', 'TGGGA', 'GGGAT', 'GGATT', 'GATTG', 'ATTGG', 'TTGGG', 'TGGGC', 'GGGCT']\n",
        "  \"\"\"\n",
        "  return [sequence[i:i+k] for i in range(len(sequence)) if len(sequence[i:i+k]) == k]"
      ],
      "metadata": {
        "id": "5TKmGwc-C4OV"
      },
      "execution_count": 1,
      "outputs": []
    },
    {
      "cell_type": "markdown",
      "source": [
        "## Paso 2 calcular el valor de $\\Delta G$ para un oligo\n",
        "\n",
        "Para este cálculo el método de Nearest Neighbor ocupa dímeros\n",
        "\n",
        "```\n",
        "NearPairsPlus = ['AA','AC','AG','AT',\n",
        "                 'CA','CC','CG','CT',\n",
        "                 'GA','GC','GG','GT',\n",
        "                 'TA','TC','TG','TT']\n",
        "DeltaG =        [-1.9, -1.3, -1.6, -1.5,\n",
        "                 -1.9, -3.1, -3.6, -1.6,\n",
        "                 -1.6, -3.1, -3.1, -1.3,\n",
        "                 -1.0, -1.6, -1.9, -1.9]\n",
        "```\n",
        "Podemos reescribir esto como un diccionario que nos facilite hayar los valores de manera más ágil y así evitar hacerlo revisando los 16 pares en un loop"
      ],
      "metadata": {
        "id": "_2PENXviDGRE"
      }
    },
    {
      "cell_type": "code",
      "source": [
        "near_pairs_delta_g = {'AA': -1.9, 'AC': -1.3, 'AG': -1.6, 'AT': -1.5,\n",
        "                      'CA': -1.9, 'CC': -3.1, 'CG': -3.6, 'CT': -1.6,\n",
        "                      'GA': -1.6, 'GC': -3.1, 'GG': -3.1, 'GT': -1.3,\n",
        "                      'TA': -1.0, 'TC': -1.6, 'TG': -1.9, 'TT': -1.9}\n",
        "sequence = 'ACTTG'\n",
        "delta_g = 0.0\n",
        "for dimer in get_oligo_kmers(sequence, 2):\n",
        "  delta_g += near_pairs_delta_g.get(dimer)\n",
        "delta_g"
      ],
      "metadata": {
        "id": "pYPzGfsmAzRw",
        "colab": {
          "base_uri": "https://localhost:8080/"
        },
        "outputId": "81202076-b35a-4c9e-e6df-854e23649ceb"
      },
      "execution_count": null,
      "outputs": [
        {
          "output_type": "execute_result",
          "data": {
            "text/plain": [
              "-6.700000000000001"
            ]
          },
          "metadata": {},
          "execution_count": 2
        }
      ]
    },
    {
      "cell_type": "markdown",
      "source": [
        "Para poder reutilizar el código, podemos escribir esta función"
      ],
      "metadata": {
        "id": "xSb3y6F3EXl1"
      }
    },
    {
      "cell_type": "code",
      "source": [
        "def get_delta_g(sequence):\n",
        "  \"\"\"Obtiene el valor de Delta G para una secuencia de nucleótidos\n",
        "  \n",
        "  :param str sequence a text string with a nucleotide sequence\n",
        "  :return float Delta G value calculated for the nucleotide sequence\n",
        "\n",
        "  Usage examples:\n",
        "  >>> get_delta_g('ACTTG')\n",
        "  -6.700000000000001\n",
        "  \"\"\"\n",
        "  near_pairs_delta_g = {'AA': -1.9, 'AC': -1.3, 'AG': -1.6, 'AT': -1.5,\n",
        "                        'CA': -1.9, 'CC': -3.1, 'CG': -3.6, 'CT': -1.6,\n",
        "                        'GA': -1.6, 'GC': -3.1, 'GG': -3.1, 'GT': -1.3,\n",
        "                        'TA': -1.0, 'TC': -1.6, 'TG': -1.9, 'TT': -1.9}\n",
        "  return sum([near_pairs_delta_g.get(dimer) for dimer in get_oligo_kmers(sequence, 2)])\n",
        "\n",
        "print(get_delta_g('ACTTG'))"
      ],
      "metadata": {
        "id": "LZNqsSSEGGy0",
        "colab": {
          "base_uri": "https://localhost:8080/"
        },
        "outputId": "b3db4858-b43a-4d22-a360-40fb5534137c"
      },
      "execution_count": 2,
      "outputs": [
        {
          "output_type": "stream",
          "name": "stdout",
          "text": [
            "-6.700000000000001\n"
          ]
        }
      ]
    },
    {
      "cell_type": "markdown",
      "source": [
        "Ahora podemos combinar estas dos funciones `get_oligo_kmers` y `get_delta_g` para calcular el Delta G de cada uno de los pentámeros de la secuencia."
      ],
      "metadata": {
        "id": "Dw_D1k8iHmce"
      }
    },
    {
      "cell_type": "code",
      "source": [
        "import re\n",
        "\n",
        "def get_delta_g_pentamers(sequence):\n",
        "  \"\"\"Obtiene el valor de Delta G para cada uno de los pentámeros\n",
        "\n",
        "  :param srt sequence a text string with A C T G letters for a \n",
        "  oligo sequence with more than 5 nucleotides\n",
        "  :retrun list a list with Delta G value for each perntamer in the oligo\n",
        "\n",
        "  Usage example:\n",
        "  get_delta_g_pentamers(\"TCTTGT\")\n",
        "  [-7.0, -6.7]\n",
        "\n",
        "  get_delta_g_pentamers(\"ACTTGGGATTGGGCT\")\n",
        "  [-6.700000000000001, -8.5, -10.0, -9.7, -9.3, -8.1, -6.9, -8.4, -10.0, -11.2, -10.9]\n",
        "\n",
        "  get_delta_g_pentamers(\"TAATACGACTCACTATAGGG\")\n",
        "  [-5.4, -5.7, -7.4, -7.5, -7.8, -8.1, -6.1, -6.4, -6.3999999999999995, -6.4, -5.800000000000001, -5.4, -5.1, -5.1, -7.199999999999999, -8.8]\n",
        "  \"\"\"\n",
        "  if not isinstance(sequence,str):\n",
        "    raise TypeError(\"sequence  must be a string for an oligonucleotide\")\n",
        "  if len(sequence) < 5:\n",
        "    raise TypeError(\"sequence must be a string with more than 5 nucleotides\")\n",
        "  sequence = sequence.upper()\n",
        "  if not bool(re.compile('^[ACTG]+$').match(sequence)):\n",
        "    raise ValueError(\"pentamer must contain only A, C, T, G\")\n",
        "  \n",
        "  \n",
        "  return [get_delta_g(pentamer) for pentamer in get_oligo_kmers(sequence, 5)]\n",
        "\n",
        "\n",
        "print(get_delta_g_pentamers(\"ACTTGGGATTGGGCT\"))\n"
      ],
      "metadata": {
        "colab": {
          "base_uri": "https://localhost:8080/"
        },
        "id": "iaYSXESgE9op",
        "outputId": "685e49f2-20e6-4708-a168-b4f8ad12ea8c"
      },
      "execution_count": 3,
      "outputs": [
        {
          "output_type": "stream",
          "name": "stdout",
          "text": [
            "[-6.700000000000001, -8.5, -10.0, -9.7, -9.3, -8.1, -6.9, -8.4, -10.0, -11.2, -10.9]\n"
          ]
        }
      ]
    },
    {
      "cell_type": "markdown",
      "source": [
        "Ahora podemos graficar el valor de $\\Delta G$ de cada uno de los pentámeros con matplotlib"
      ],
      "metadata": {
        "id": "Qsb2edrYE-S5"
      }
    },
    {
      "cell_type": "code",
      "source": [
        "import matplotlib.pyplot as plt\n",
        "\n",
        "\n",
        "def get_stability_graph(oligo):\n",
        "    \"\"\"\n",
        "       Return a graph of the oligo's pentamers and their deltaG.\n",
        "\n",
        "       param: oligo: a string of nucleotides\n",
        "       return: a matplotlib graph\n",
        "    \"\"\"\n",
        "\n",
        "    oligo = oligo.upper()\n",
        "    pentamers = get_oligo_kmers(oligo, 5)\n",
        "    delta_g_pentamers = get_delta_g_pentamers(oligo)\n",
        "    x_labels = list(oligo[0:-5])\n",
        "    x_labels.append(pentamers[-1])\n",
        "\n",
        "    plt.plot(delta_g_pentamers, marker='o', linestyle=':', color='b')\n",
        "\n",
        "    plt.ylabel(r'$\\sum \\Delta$ G $\\left(\\frac{kcal}{mol}\\right)$ pentamers')\n",
        "    plt.xticks(range(len(x_labels)), x_labels)\n",
        "    plt.gca().axes.set_ylim([-12, -5])\n",
        "    plt.gca().invert_yaxis()\n",
        "    #plt.savefig('stability_graph.png', bbox_inches='tight')\n",
        "    plt.show()"
      ],
      "metadata": {
        "id": "Bxh7B-wYIvag"
      },
      "execution_count": 16,
      "outputs": []
    },
    {
      "cell_type": "markdown",
      "source": [
        "Ahora fácilmente podemos obtener la gráfica de estabilidad interna para cada oligo con la función anterior"
      ],
      "metadata": {
        "id": "yjUQmSZyTRme"
      }
    },
    {
      "cell_type": "code",
      "source": [
        "get_stability_graph(\"ACTTGGGATTGGGCT\")"
      ],
      "metadata": {
        "colab": {
          "base_uri": "https://localhost:8080/",
          "height": 269
        },
        "id": "s2V3cZILTMVa",
        "outputId": "3f13ae62-baac-4f44-9019-932fa8587f15"
      },
      "execution_count": 17,
      "outputs": [
        {
          "output_type": "display_data",
          "data": {
            "text/plain": [
              "<Figure size 432x288 with 1 Axes>"
            ],
            "image/png": "[encoded data removed]"
          },
          "metadata": {
            "needs_background": "light"
          }
        }
      ]
    },
    {
      "cell_type": "code",
      "source": [],
      "metadata": {
        "id": "WFh0g456Tbpo"
      },
      "execution_count": null,
      "outputs": []
    }
  ]
}